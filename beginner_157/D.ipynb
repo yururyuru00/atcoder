{
 "cells": [
  {
   "cell_type": "code",
   "execution_count": 1,
   "metadata": {},
   "outputs": [
    {
     "ename": "SyntaxError",
     "evalue": "invalid syntax (<ipython-input-1-003e2ad6e631>, line 18)",
     "output_type": "error",
     "traceback": [
      "\u001b[1;36m  File \u001b[1;32m\"<ipython-input-1-003e2ad6e631>\"\u001b[1;36m, line \u001b[1;32m18\u001b[0m\n\u001b[1;33m    if __name__ == \"__main__\":\u001b[0m\n\u001b[1;37m                             ^\u001b[0m\n\u001b[1;31mSyntaxError\u001b[0m\u001b[1;31m:\u001b[0m invalid syntax\n"
     ]
    }
   ],
   "source": [
    "import numpy as np\n",
    "\n",
    "\n",
    "\n",
    "\n",
    "def main():\n",
    "    args = input().rstrip().split(' ')\n",
    "    N, M, K= int(args[0]), int(args[1]), int(args[2])\n",
    "    friend, block = [], []\n",
    "    for i in range(N):\n",
    "        args = input().rstrip().split(' ')\n",
    "        friend.append([int(args[0]), int(args[1])])\n",
    "    for i in range(N):\n",
    "        args = input().rstrip().split(' ')\n",
    "        block.append([int(args[0]), int(args[1])])\n",
    "        \n",
    "    print('{} {} {}\\n{}\\n{}'.format(N, M, K, friend, block))\n",
    "    \n",
    "    \n",
    "if __name__ == \"__main__\":\n",
    "    main()"
   ]
  },
  {
   "cell_type": "code",
   "execution_count": null,
   "metadata": {},
   "outputs": [],
   "source": []
  }
 ],
 "metadata": {
  "kernelspec": {
   "display_name": "Python 3",
   "language": "python",
   "name": "python3"
  },
  "language_info": {
   "codemirror_mode": {
    "name": "ipython",
    "version": 3
   },
   "file_extension": ".py",
   "mimetype": "text/x-python",
   "name": "python",
   "nbconvert_exporter": "python",
   "pygments_lexer": "ipython3",
   "version": "3.7.5"
  }
 },
 "nbformat": 4,
 "nbformat_minor": 2
}
