{
 "cells": [
  {
   "cell_type": "code",
   "execution_count": 6,
   "metadata": {},
   "outputs": [
    {
     "name": "stdout",
     "output_type": "stream",
     "text": [
      "2 3\n",
      "2 0\n",
      "2 0\n",
      "2 0\n",
      "10\n"
     ]
    }
   ],
   "source": [
    "import numpy as np\n",
    "\n",
    "def main():\n",
    "    rule = {1:[0, 10], 2:[10, 100], 3:[100, 1000]}\n",
    "    args = input().rstrip().split(' ')\n",
    "    N, M = int(args[0]), int(args[1])\n",
    "    query = []\n",
    "    for i in range(M):\n",
    "        args = input().rstrip().split(' ')\n",
    "        query.append([int(args[0]), int(args[1])])\n",
    "        \n",
    "    global_flag = False\n",
    "    for i in range(rule[N][0], rule[N][1]):\n",
    "        if(N==1):\n",
    "            val = np.array([i, -1,-1, -1, -1])\n",
    "        elif(N==2):\n",
    "            val = np.array([int(i/10), i%10, -1, -1, -1])\n",
    "        else:\n",
    "            val = np.array([int(i/100), int(i%100/10), i%10, -1, -1])\n",
    "        \n",
    "        flag = True\n",
    "        for q in query:\n",
    "            if(val[q[0]-1] != q[1]):\n",
    "                flag = False\n",
    "                break\n",
    "        if(flag == True):\n",
    "            print(i)\n",
    "            global_flag = True\n",
    "            break\n",
    "    if(global_flag == False):\n",
    "        print('-1')\n",
    "    \n",
    "if __name__ == \"__main__\":\n",
    "    main()"
   ]
  },
  {
   "cell_type": "markdown",
   "metadata": {},
   "source": [
    "### "
   ]
  }
 ],
 "metadata": {
  "kernelspec": {
   "display_name": "Python 3",
   "language": "python",
   "name": "python3"
  },
  "language_info": {
   "codemirror_mode": {
    "name": "ipython",
    "version": 3
   },
   "file_extension": ".py",
   "mimetype": "text/x-python",
   "name": "python",
   "nbconvert_exporter": "python",
   "pygments_lexer": "ipython3",
   "version": "3.7.5"
  }
 },
 "nbformat": 4,
 "nbformat_minor": 2
}
